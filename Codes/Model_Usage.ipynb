{
 "cells": [
  {
   "cell_type": "code",
   "execution_count": 23,
   "id": "724ff782",
   "metadata": {},
   "outputs": [],
   "source": [
    "from joblib import dump, load\n",
    "model = load('Dragon.joblib') "
   ]
  },
  {
   "cell_type": "code",
   "execution_count": 27,
   "id": "c3bac42e",
   "metadata": {},
   "outputs": [],
   "source": [
    "import numpy as np\n",
    "features = np.array([[-0.37714436, -0.49473328, -0.15029298, -0.27288841, -0.08365802,\n",
    "       -0.06592866,  0.54049235, -0.24394412, -0.62035329, -0.58621527,\n",
    "        0.03714646,  0.37756738, -0.61721356]])"
   ]
  },
  {
   "cell_type": "code",
   "execution_count": 28,
   "id": "8cb76086",
   "metadata": {},
   "outputs": [
    {
     "name": "stdout",
     "output_type": "stream",
     "text": [
      "[21.938]\n"
     ]
    }
   ],
   "source": [
    "#We can predixt price while giving feature in same sequence.\n",
    "print(model.predict(features))"
   ]
  },
  {
   "cell_type": "code",
   "execution_count": null,
   "id": "aad67b58",
   "metadata": {},
   "outputs": [],
   "source": []
  }
 ],
 "metadata": {
  "kernelspec": {
   "display_name": "Python 3 (ipykernel)",
   "language": "python",
   "name": "python3"
  },
  "language_info": {
   "codemirror_mode": {
    "name": "ipython",
    "version": 3
   },
   "file_extension": ".py",
   "mimetype": "text/x-python",
   "name": "python",
   "nbconvert_exporter": "python",
   "pygments_lexer": "ipython3",
   "version": "3.10.7"
  }
 },
 "nbformat": 4,
 "nbformat_minor": 5
}
